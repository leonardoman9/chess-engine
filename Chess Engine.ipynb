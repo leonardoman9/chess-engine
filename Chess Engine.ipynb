{
  "nbformat": 4,
  "nbformat_minor": 0,
  "metadata": {
    "colab": {
      "provenance": [],
      "gpuType": "T4"
    },
    "kernelspec": {
      "name": "python3",
      "display_name": "Python 3"
    },
    "language_info": {
      "name": "python"
    },
    "accelerator": "GPU"
  },
  "cells": [
    {
      "cell_type": "markdown",
      "source": [
        "# Chess Engine Training on Google Colab\n",
        "\n",
        "This notebook will help you train the chess engine using Google Colab's GPU. Follow these steps:\n",
        "\n",
        "1. Mount your Google Drive to save model checkpoints\n",
        "2. Install required packages\n",
        "3. Set up the project structure\n",
        "4. Train the model\n",
        "5. Download the trained model"
      ],
      "metadata": {
        "id": "J5b4C_7ASb6B"
      }
    },
    {
      "cell_type": "code",
      "execution_count": 25,
      "metadata": {
        "colab": {
          "base_uri": "https://localhost:8080/"
        },
        "id": "o1G1hKf5SYG4",
        "outputId": "a1616839-6586-4f13-95be-1abd2add3553"
      },
      "outputs": [
        {
          "output_type": "stream",
          "name": "stdout",
          "text": [
            "Drive already mounted at /content/drive; to attempt to forcibly remount, call drive.mount(\"/content/drive\", force_remount=True).\n",
            "Requirement already satisfied: python-chess in /usr/local/lib/python3.11/dist-packages (1.999)\n",
            "Requirement already satisfied: torch in /usr/local/lib/python3.11/dist-packages (2.6.0+cu124)\n",
            "Requirement already satisfied: numpy in /usr/local/lib/python3.11/dist-packages (2.0.2)\n",
            "Requirement already satisfied: tqdm in /usr/local/lib/python3.11/dist-packages (4.67.1)\n",
            "Requirement already satisfied: matplotlib in /usr/local/lib/python3.11/dist-packages (3.10.0)\n",
            "Requirement already satisfied: chess<2,>=1 in /usr/local/lib/python3.11/dist-packages (from python-chess) (1.11.2)\n",
            "Requirement already satisfied: filelock in /usr/local/lib/python3.11/dist-packages (from torch) (3.18.0)\n",
            "Requirement already satisfied: typing-extensions>=4.10.0 in /usr/local/lib/python3.11/dist-packages (from torch) (4.12.2)\n",
            "Requirement already satisfied: networkx in /usr/local/lib/python3.11/dist-packages (from torch) (3.4.2)\n",
            "Requirement already satisfied: jinja2 in /usr/local/lib/python3.11/dist-packages (from torch) (3.1.6)\n",
            "Requirement already satisfied: fsspec in /usr/local/lib/python3.11/dist-packages (from torch) (2025.3.0)\n",
            "Requirement already satisfied: nvidia-cuda-nvrtc-cu12==12.4.127 in /usr/local/lib/python3.11/dist-packages (from torch) (12.4.127)\n",
            "Requirement already satisfied: nvidia-cuda-runtime-cu12==12.4.127 in /usr/local/lib/python3.11/dist-packages (from torch) (12.4.127)\n",
            "Requirement already satisfied: nvidia-cuda-cupti-cu12==12.4.127 in /usr/local/lib/python3.11/dist-packages (from torch) (12.4.127)\n",
            "Requirement already satisfied: nvidia-cudnn-cu12==9.1.0.70 in /usr/local/lib/python3.11/dist-packages (from torch) (9.1.0.70)\n",
            "Requirement already satisfied: nvidia-cublas-cu12==12.4.5.8 in /usr/local/lib/python3.11/dist-packages (from torch) (12.4.5.8)\n",
            "Requirement already satisfied: nvidia-cufft-cu12==11.2.1.3 in /usr/local/lib/python3.11/dist-packages (from torch) (11.2.1.3)\n",
            "Requirement already satisfied: nvidia-curand-cu12==10.3.5.147 in /usr/local/lib/python3.11/dist-packages (from torch) (10.3.5.147)\n",
            "Requirement already satisfied: nvidia-cusolver-cu12==11.6.1.9 in /usr/local/lib/python3.11/dist-packages (from torch) (11.6.1.9)\n",
            "Requirement already satisfied: nvidia-cusparse-cu12==12.3.1.170 in /usr/local/lib/python3.11/dist-packages (from torch) (12.3.1.170)\n",
            "Requirement already satisfied: nvidia-cusparselt-cu12==0.6.2 in /usr/local/lib/python3.11/dist-packages (from torch) (0.6.2)\n",
            "Requirement already satisfied: nvidia-nccl-cu12==2.21.5 in /usr/local/lib/python3.11/dist-packages (from torch) (2.21.5)\n",
            "Requirement already satisfied: nvidia-nvtx-cu12==12.4.127 in /usr/local/lib/python3.11/dist-packages (from torch) (12.4.127)\n",
            "Requirement already satisfied: nvidia-nvjitlink-cu12==12.4.127 in /usr/local/lib/python3.11/dist-packages (from torch) (12.4.127)\n",
            "Requirement already satisfied: triton==3.2.0 in /usr/local/lib/python3.11/dist-packages (from torch) (3.2.0)\n",
            "Requirement already satisfied: sympy==1.13.1 in /usr/local/lib/python3.11/dist-packages (from torch) (1.13.1)\n",
            "Requirement already satisfied: mpmath<1.4,>=1.1.0 in /usr/local/lib/python3.11/dist-packages (from sympy==1.13.1->torch) (1.3.0)\n",
            "Requirement already satisfied: contourpy>=1.0.1 in /usr/local/lib/python3.11/dist-packages (from matplotlib) (1.3.1)\n",
            "Requirement already satisfied: cycler>=0.10 in /usr/local/lib/python3.11/dist-packages (from matplotlib) (0.12.1)\n",
            "Requirement already satisfied: fonttools>=4.22.0 in /usr/local/lib/python3.11/dist-packages (from matplotlib) (4.56.0)\n",
            "Requirement already satisfied: kiwisolver>=1.3.1 in /usr/local/lib/python3.11/dist-packages (from matplotlib) (1.4.8)\n",
            "Requirement already satisfied: packaging>=20.0 in /usr/local/lib/python3.11/dist-packages (from matplotlib) (24.2)\n",
            "Requirement already satisfied: pillow>=8 in /usr/local/lib/python3.11/dist-packages (from matplotlib) (11.1.0)\n",
            "Requirement already satisfied: pyparsing>=2.3.1 in /usr/local/lib/python3.11/dist-packages (from matplotlib) (3.2.1)\n",
            "Requirement already satisfied: python-dateutil>=2.7 in /usr/local/lib/python3.11/dist-packages (from matplotlib) (2.8.2)\n",
            "Requirement already satisfied: six>=1.5 in /usr/local/lib/python3.11/dist-packages (from python-dateutil>=2.7->matplotlib) (1.17.0)\n",
            "Requirement already satisfied: MarkupSafe>=2.0 in /usr/local/lib/python3.11/dist-packages (from jinja2->torch) (3.0.2)\n"
          ]
        }
      ],
      "source": [
        "# Mount Google Drive\n",
        "from google.colab import drive\n",
        "drive.mount('/content/drive')\n",
        "\n",
        "# Install required packages\n",
        "!pip install python-chess torch numpy tqdm matplotlib\n",
        "\n",
        "# Create project structure\n",
        "!mkdir -p models"
      ]
    },
    {
      "cell_type": "code",
      "source": [
        "import torch\n",
        "import torch.nn as nn\n",
        "import torch.nn.functional as F\n",
        "\n",
        "class ChessNet(nn.Module):\n",
        "    def __init__(self):\n",
        "        super(ChessNet, self).__init__()\n",
        "        self.conv1 = nn.Conv2d(13, 64, kernel_size=3, padding=1)\n",
        "        self.conv2 = nn.Conv2d(64, 128, kernel_size=3, padding=1)\n",
        "        self.conv3 = nn.Conv2d(128, 256, kernel_size=3, padding=1)\n",
        "\n",
        "        self.fc1 = nn.Linear(256 * 8 * 8, 1024)\n",
        "        self.fc2 = nn.Linear(1024, 512)\n",
        "        self.fc_value = nn.Linear(512, 1)\n",
        "        self.fc_policy = nn.Linear(512, 4672)  # All possible moves\n",
        "\n",
        "    def forward(self, x):\n",
        "        x = F.relu(self.conv1(x))\n",
        "        x = F.relu(self.conv2(x))\n",
        "        x = F.relu(self.conv3(x))\n",
        "\n",
        "        x = x.view(-1, 256 * 8 * 8)\n",
        "        x = F.relu(self.fc1(x))\n",
        "        x = F.relu(self.fc2(x))\n",
        "\n",
        "        value = torch.tanh(self.fc_value(x))\n",
        "        policy = F.log_softmax(self.fc_policy(x), dim=1)\n",
        "\n",
        "        return value, policy\n",
        "\n",
        "def load_model(path):\n",
        "    model = ChessNet()\n",
        "    model.load_state_dict(torch.load(path))\n",
        "    model.eval()\n",
        "    return model"
      ],
      "metadata": {
        "id": "AfAaV7fDSfyk"
      },
      "execution_count": 40,
      "outputs": []
    },
    {
      "cell_type": "code",
      "source": [
        "import torch\n",
        "import torch.nn.functional as F\n",
        "import numpy as np\n",
        "import chess\n",
        "\n",
        "class ChessBoard:\n",
        "    def __init__(self):\n",
        "        self.board = chess.Board()\n",
        "        self.piece_values = {\n",
        "            chess.PAWN: 1,\n",
        "            chess.KNIGHT: 3,\n",
        "            chess.BISHOP: 3,\n",
        "            chess.ROOK: 5,\n",
        "            chess.QUEEN: 9,\n",
        "            chess.KING: 0\n",
        "        }\n",
        "\n",
        "    def get_board_state(self):\n",
        "        \"\"\"Convert board to neural network input format\"\"\"\n",
        "        state = np.zeros((13, 8, 8), dtype=np.float32)\n",
        "        for square in chess.SQUARES:\n",
        "            piece = self.board.piece_at(square)\n",
        "            if piece is None:\n",
        "                state[12][square // 8][square % 8] = 1\n",
        "            else:\n",
        "                piece_idx = piece.piece_type - 1 + (6 if piece.color else 0)\n",
        "                state[piece_idx][square // 8][square % 8] = 1\n",
        "        return state\n",
        "\n",
        "    def get_legal_moves(self):\n",
        "        return [move.uci() for move in self.board.legal_moves]\n",
        "\n",
        "    def make_move(self, move_uci):\n",
        "        try:\n",
        "            move = chess.Move.from_uci(move_uci)\n",
        "            if move in self.board.legal_moves:\n",
        "                self.board.push(move)\n",
        "                return True\n",
        "            return False\n",
        "        except ValueError:\n",
        "            return False\n",
        "\n",
        "    def is_game_over(self):\n",
        "        return self.board.is_game_over()\n",
        "\n",
        "    def get_result(self):\n",
        "        if not self.is_game_over():\n",
        "            return 0.0  # Return 0.0 for ongoing games\n",
        "        result = self.board.result()\n",
        "        if result == \"1-0\":\n",
        "            return 1.0\n",
        "        elif result == \"0-1\":\n",
        "            return -1.0\n",
        "        else:\n",
        "            return 0.0  # Return 0.0 for draws\n",
        "\n",
        "class SelfPlayTrainer:\n",
        "    def __init__(self, model_path=None):\n",
        "        self.model = ChessNet()\n",
        "        if model_path:\n",
        "            self.model.load_state_dict(torch.load(model_path))\n",
        "        self.optimizer = optim.Adam(self.model.parameters(), lr=0.001)\n",
        "        self.value_criterion = nn.MSELoss()\n",
        "        self.policy_criterion = nn.CrossEntropyLoss()\n",
        "\n",
        "    def self_play_game(self, temperature=1.0):\n",
        "        board = ChessBoard()\n",
        "        agent = ChessAgent(self.model)\n",
        "        states = []\n",
        "        moves = []\n",
        "\n",
        "        while not board.is_game_over():\n",
        "            state = board.get_board_state()\n",
        "            move = agent.select_move(temperature)\n",
        "\n",
        "            if move is None:  # No legal moves available\n",
        "                break\n",
        "\n",
        "            if board.make_move(move):  # Only append if move was successful\n",
        "                states.append(state)\n",
        "                moves.append(agent._move_to_index(move))  # Convert move to index\n",
        "            else:\n",
        "                break  # Stop if move was invalid\n",
        "\n",
        "        result = board.get_result()\n",
        "        return states, moves, result\n",
        "\n",
        "    def train_step(self, states, moves, result):\n",
        "        if not states or not moves:  # Skip if no valid moves were made\n",
        "            return 0.0\n",
        "\n",
        "        self.model.train()\n",
        "        self.optimizer.zero_grad()\n",
        "\n",
        "        states = np.array(states)\n",
        "        states = torch.FloatTensor(states)\n",
        "        moves = torch.LongTensor(moves)  # Now moves are already indices\n",
        "        result = torch.FloatTensor([result])\n",
        "\n",
        "        value, policy = self.model(states)\n",
        "        value_loss = self.value_criterion(value.squeeze(), result)\n",
        "        policy_loss = self.policy_criterion(policy, moves)\n",
        "        loss = value_loss + policy_loss\n",
        "\n",
        "        loss.backward()\n",
        "        self.optimizer.step()\n",
        "        return loss.item()\n",
        "\n",
        "    def train(self, num_games=100, num_epochs=10):\n",
        "        for game in tqdm(range(num_games)):\n",
        "            states, moves, result = self.self_play_game()\n",
        "            if states and moves:  # Only train if we have valid data\n",
        "                for epoch in range(num_epochs):\n",
        "                    loss = self.train_step(states, moves, result)\n",
        "                if (game + 1) % 10 == 0:\n",
        "                    torch.save(self.model.state_dict(), f'models/checkpoint_{game+1}.pt')"
      ],
      "metadata": {
        "id": "zaqqGZb_ShFp"
      },
      "execution_count": 41,
      "outputs": []
    },
    {
      "cell_type": "code",
      "source": [
        "import torch\n",
        "import torch.nn as nn\n",
        "import torch.optim as optim\n",
        "from tqdm import tqdm\n",
        "import numpy as np\n",
        "\n",
        "class SelfPlayTrainer:\n",
        "    def __init__(self, model_path=None):\n",
        "        self.model = ChessNet()\n",
        "        if model_path:\n",
        "            self.model.load_state_dict(torch.load(model_path))\n",
        "        self.optimizer = optim.Adam(self.model.parameters(), lr=0.001)\n",
        "        self.value_criterion = nn.MSELoss()\n",
        "        self.policy_criterion = nn.CrossEntropyLoss()\n",
        "\n",
        "    def self_play_game(self, temperature=1.0):\n",
        "        board = ChessBoard()\n",
        "        agent = ChessAgent(self.model)\n",
        "        states = []\n",
        "        moves = []\n",
        "\n",
        "        while not board.is_game_over():\n",
        "            state = board.get_board_state()\n",
        "            move = agent.select_move(temperature)\n",
        "\n",
        "            if move is None:  # No legal moves available\n",
        "                break\n",
        "\n",
        "            if board.make_move(move):  # Only append if move was successful\n",
        "                states.append(state)\n",
        "                moves.append(agent._move_to_index(move))  # Convert move to index\n",
        "            else:\n",
        "                break  # Stop if move was invalid\n",
        "\n",
        "        result = board.get_result()\n",
        "        return states, moves, result\n",
        "\n",
        "    def train_step(self, states, moves, result):\n",
        "        if not states or not moves:  # Skip if no valid moves were made\n",
        "            return 0.0\n",
        "\n",
        "        self.model.train()\n",
        "        self.optimizer.zero_grad()\n",
        "\n",
        "        states = np.array(states)\n",
        "        states = torch.FloatTensor(states)\n",
        "        moves = torch.LongTensor(moves)  # Now moves are already indices\n",
        "        result = torch.FloatTensor([result])\n",
        "\n",
        "        value, policy = self.model(states)\n",
        "        value_loss = self.value_criterion(value.squeeze(), result)\n",
        "        policy_loss = self.policy_criterion(policy, moves)\n",
        "        loss = value_loss + policy_loss\n",
        "\n",
        "        loss.backward()\n",
        "        self.optimizer.step()\n",
        "        return loss.item()\n",
        "\n",
        "    def train(self, num_games=100, num_epochs=10):\n",
        "        for game in tqdm(range(num_games)):\n",
        "            states, moves, result = self.self_play_game()\n",
        "            if states and moves:  # Only train if we have valid data\n",
        "                for epoch in range(num_epochs):\n",
        "                    loss = self.train_step(states, moves, result)\n",
        "                if (game + 1) % 10 == 0:\n",
        "                    torch.save(self.model.state_dict(), f'models/checkpoint_{game+1}.pt')"
      ],
      "metadata": {
        "id": "Wd3J0WlzSjDz"
      },
      "execution_count": 42,
      "outputs": []
    },
    {
      "cell_type": "code",
      "source": [
        "class ChessCLI:\n",
        "    def __init__(self, model_path):\n",
        "        self.model = load_model(model_path)\n",
        "        self.agent = ChessAgent(self.model)\n",
        "        self.board = ChessBoard()\n",
        "\n",
        "    def print_board(self):\n",
        "        print(self.board.board)\n",
        "\n",
        "    def play(self, human_plays_white=True):\n",
        "        while not self.board.is_game_over():\n",
        "            self.print_board()\n",
        "            if (human_plays_white and self.board.board.turn) or \\\n",
        "               (not human_plays_white and not self.board.board.turn):\n",
        "                move = input(\"Enter your move (UCI format, e.g., 'e2e4'): \")\n",
        "                try:\n",
        "                    self.board.make_move(move)\n",
        "                except ValueError:\n",
        "                    print(\"Invalid move! Try again.\")\n",
        "                    continue\n",
        "            else:\n",
        "                move = self.agent.select_move()\n",
        "                print(f\"Engine plays: {move}\")\n",
        "                self.board.make_move(move)\n",
        "\n",
        "        self.print_board()\n",
        "        result = self.board.get_result()\n",
        "        if result == 1:\n",
        "            print(\"White wins!\")\n",
        "        elif result == -1:\n",
        "            print(\"Black wins!\")\n",
        "        else:\n",
        "            print(\"Draw!\")"
      ],
      "metadata": {
        "id": "SnAfLw3eSqjt"
      },
      "execution_count": 43,
      "outputs": []
    },
    {
      "cell_type": "code",
      "source": [
        "# Training parameters\n",
        "NUM_GAMES = 10\n",
        "NUM_EPOCHS = 1\n",
        "MODEL_SAVE_PATH = '/content/drive/MyDrive/chess_engine/models'\n",
        "\n",
        "# Create trainer\n",
        "trainer = SelfPlayTrainer()\n",
        "\n",
        "# Train the model\n",
        "print(\"Starting training...\")\n",
        "trainer.train(num_games=NUM_GAMES, num_epochs=NUM_EPOCHS)\n",
        "print(\"Training completed!\")"
      ],
      "metadata": {
        "colab": {
          "base_uri": "https://localhost:8080/"
        },
        "id": "IbjqO833SsMe",
        "outputId": "48dca75d-d1b1-4919-f751-ad6a7224bcfd"
      },
      "execution_count": 44,
      "outputs": [
        {
          "output_type": "stream",
          "name": "stdout",
          "text": [
            "Starting training...\n"
          ]
        },
        {
          "output_type": "stream",
          "name": "stderr",
          "text": [
            "\r  0%|          | 0/10 [00:00<?, ?it/s]/usr/local/lib/python3.11/dist-packages/torch/nn/modules/loss.py:610: UserWarning: Using a target size (torch.Size([1])) that is different to the input size (torch.Size([])). This will likely lead to incorrect results due to broadcasting. Please ensure they have the same size.\n",
            "  return F.mse_loss(input, target, reduction=self.reduction)\n",
            "100%|██████████| 10/10 [00:03<00:00,  2.85it/s]"
          ]
        },
        {
          "output_type": "stream",
          "name": "stdout",
          "text": [
            "Training completed!\n"
          ]
        },
        {
          "output_type": "stream",
          "name": "stderr",
          "text": [
            "\n"
          ]
        }
      ]
    },
    {
      "cell_type": "code",
      "source": [
        "# Download the trained model\n",
        "!cp {MODEL_SAVE_PATH}/checkpoint_{NUM_GAMES}.pt /content/models/checkpoint_{NUM_GAMES}.pt\n",
        "!zip -r /content/chess_model.zip /content/models/\n",
        "\n",
        "from google.colab import files\n",
        "files.download('/content/chess_model.zip')"
      ],
      "metadata": {
        "colab": {
          "base_uri": "https://localhost:8080/",
          "height": 69
        },
        "id": "rcAp2g9fSts4",
        "outputId": "99de9af9-5a8a-4d92-8005-df66c65216de"
      },
      "execution_count": 45,
      "outputs": [
        {
          "output_type": "stream",
          "name": "stdout",
          "text": [
            "cp: cannot stat '/content/drive/MyDrive/chess_engine/models/checkpoint_10.pt': No such file or directory\n",
            "  adding: content/models/ (stored 0%)\n",
            "  adding: content/models/checkpoint_10.pt (deflated 9%)\n"
          ]
        },
        {
          "output_type": "display_data",
          "data": {
            "text/plain": [
              "<IPython.core.display.Javascript object>"
            ],
            "application/javascript": [
              "\n",
              "    async function download(id, filename, size) {\n",
              "      if (!google.colab.kernel.accessAllowed) {\n",
              "        return;\n",
              "      }\n",
              "      const div = document.createElement('div');\n",
              "      const label = document.createElement('label');\n",
              "      label.textContent = `Downloading \"${filename}\": `;\n",
              "      div.appendChild(label);\n",
              "      const progress = document.createElement('progress');\n",
              "      progress.max = size;\n",
              "      div.appendChild(progress);\n",
              "      document.body.appendChild(div);\n",
              "\n",
              "      const buffers = [];\n",
              "      let downloaded = 0;\n",
              "\n",
              "      const channel = await google.colab.kernel.comms.open(id);\n",
              "      // Send a message to notify the kernel that we're ready.\n",
              "      channel.send({})\n",
              "\n",
              "      for await (const message of channel.messages) {\n",
              "        // Send a message to notify the kernel that we're ready.\n",
              "        channel.send({})\n",
              "        if (message.buffers) {\n",
              "          for (const buffer of message.buffers) {\n",
              "            buffers.push(buffer);\n",
              "            downloaded += buffer.byteLength;\n",
              "            progress.value = downloaded;\n",
              "          }\n",
              "        }\n",
              "      }\n",
              "      const blob = new Blob(buffers, {type: 'application/binary'});\n",
              "      const a = document.createElement('a');\n",
              "      a.href = window.URL.createObjectURL(blob);\n",
              "      a.download = filename;\n",
              "      div.appendChild(a);\n",
              "      a.click();\n",
              "      div.remove();\n",
              "    }\n",
              "  "
            ]
          },
          "metadata": {}
        },
        {
          "output_type": "display_data",
          "data": {
            "text/plain": [
              "<IPython.core.display.Javascript object>"
            ],
            "application/javascript": [
              "download(\"download_5b218b6f-f741-443a-9328-51601391b794\", \"chess_model.zip\", 73430177)"
            ]
          },
          "metadata": {}
        }
      ]
    },
    {
      "cell_type": "code",
      "source": [],
      "metadata": {
        "id": "vVBVTLOvSvyl"
      },
      "execution_count": 45,
      "outputs": []
    },
    {
      "cell_type": "code",
      "source": [],
      "metadata": {
        "id": "j04_G-srSxUn"
      },
      "execution_count": 45,
      "outputs": []
    },
    {
      "cell_type": "code",
      "source": [],
      "metadata": {
        "id": "dl4m8bSmSyiZ"
      },
      "execution_count": 45,
      "outputs": []
    }
  ]
}